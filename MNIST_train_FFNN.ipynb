{
  "nbformat": 4,
  "nbformat_minor": 0,
  "metadata": {
    "colab": {
      "provenance": [],
      "authorship_tag": "ABX9TyMRDJ6GK0jGItK+XErpgB4+",
      "include_colab_link": true
    },
    "kernelspec": {
      "name": "python3",
      "display_name": "Python 3"
    },
    "language_info": {
      "name": "python"
    },
    "widgets": {
      "application/vnd.jupyter.widget-state+json": {
        "c802e873ffc84061a554f21612ffd42b": {
          "model_module": "@jupyter-widgets/controls",
          "model_name": "HBoxModel",
          "model_module_version": "1.5.0",
          "state": {
            "_dom_classes": [],
            "_model_module": "@jupyter-widgets/controls",
            "_model_module_version": "1.5.0",
            "_model_name": "HBoxModel",
            "_view_count": null,
            "_view_module": "@jupyter-widgets/controls",
            "_view_module_version": "1.5.0",
            "_view_name": "HBoxView",
            "box_style": "",
            "children": [
              "IPY_MODEL_5bf89261490a4a57b5380d96164f9a3c",
              "IPY_MODEL_863b5a668dd74dbe940f5683c868d90a",
              "IPY_MODEL_64af6a78654e4f9db726b556df814fb0"
            ],
            "layout": "IPY_MODEL_b2fe43e13d2a493ea78266c00c4f5d32"
          }
        },
        "1893adc626234ccd9343a1b7898bfa65": {
          "model_module": "@jupyter-widgets/controls",
          "model_name": "HBoxModel",
          "model_module_version": "1.5.0",
          "state": {
            "_dom_classes": [],
            "_model_module": "@jupyter-widgets/controls",
            "_model_module_version": "1.5.0",
            "_model_name": "HBoxModel",
            "_view_count": null,
            "_view_module": "@jupyter-widgets/controls",
            "_view_module_version": "1.5.0",
            "_view_name": "HBoxView",
            "box_style": "",
            "children": [
              "IPY_MODEL_97cc2be60c7c4ae48721817445e57b46",
              "IPY_MODEL_da6df148db1943878f4671eba49d5f50",
              "IPY_MODEL_99442ec9c77c411096202e660980076f"
            ],
            "layout": "IPY_MODEL_6d0f00070e96487aaf849f8d9b6333ba"
          }
        },
        "4c43583a7da14f40a1b062134fbcf374": {
          "model_module": "@jupyter-widgets/controls",
          "model_name": "HBoxModel",
          "model_module_version": "1.5.0",
          "state": {
            "_dom_classes": [],
            "_model_module": "@jupyter-widgets/controls",
            "_model_module_version": "1.5.0",
            "_model_name": "HBoxModel",
            "_view_count": null,
            "_view_module": "@jupyter-widgets/controls",
            "_view_module_version": "1.5.0",
            "_view_name": "HBoxView",
            "box_style": "",
            "children": [
              "IPY_MODEL_cf7daf434d7e4d7bb94cbf7af06b036a",
              "IPY_MODEL_ad6bcb51279348d0b4f01c06805f5368",
              "IPY_MODEL_887c262fd9f04f4e96e848ca95f71ca5"
            ],
            "layout": "IPY_MODEL_4bcab8a525aa4621a145c6f814eaf6f7"
          }
        },
        "8e81343ddcf34f87a50a4a628421c78d": {
          "model_module": "@jupyter-widgets/controls",
          "model_name": "HBoxModel",
          "model_module_version": "1.5.0",
          "state": {
            "_dom_classes": [],
            "_model_module": "@jupyter-widgets/controls",
            "_model_module_version": "1.5.0",
            "_model_name": "HBoxModel",
            "_view_count": null,
            "_view_module": "@jupyter-widgets/controls",
            "_view_module_version": "1.5.0",
            "_view_name": "HBoxView",
            "box_style": "",
            "children": [
              "IPY_MODEL_daca2828535743a5b5ac44d8ff119546",
              "IPY_MODEL_3503b81f83484ed0a6603e348f3e3410",
              "IPY_MODEL_a7fd28f11cd74723837f659f700b64ff"
            ],
            "layout": "IPY_MODEL_6e899548fd2041d4837a161c8c056055"
          }
        }
      }
    }
  },
  "cells": [
    {
      "cell_type": "markdown",
      "metadata": {
        "id": "view-in-github",
        "colab_type": "text"
      },
      "source": [
        "<a href=\"https://colab.research.google.com/github/Ruchi-23/mnist_dataset/blob/main/MNIST_train_FFNN.ipynb\" target=\"_parent\"><img src=\"https://colab.research.google.com/assets/colab-badge.svg\" alt=\"Open In Colab\"/></a>"
      ]
    },
    {
      "cell_type": "code",
      "execution_count": null,
      "metadata": {
        "id": "StAttIzDUOG1"
      },
      "outputs": [],
      "source": [
        "import torch\n",
        "import torch.nn as nn\n",
        "import torch.nn.functional as F\n",
        "import torch.optim as optim\n",
        "from torch.autograd import Variable\n",
        "import torchvision\n",
        "from torchvision import datasets, transforms\n",
        "import numpy as np\n",
        "import matplotlib.pyplot as plt\n",
        "%matplotlib inline"
      ]
    },
    {
      "cell_type": "code",
      "source": [
        "#Training Data"
      ],
      "metadata": {
        "id": "-dMVEdJpUslQ"
      },
      "execution_count": null,
      "outputs": []
    },
    {
      "cell_type": "code",
      "source": [
        "train_loader = torch.utils.data.DataLoader(\n",
        "    datasets.MNIST('./data', train=True, download=True,\n",
        "    transform=transforms.Compose([\n",
        "        transforms.ToTensor()\n",
        "    ])),\n",
        "    batch_size=32, shuffle=False)"
      ],
      "metadata": {
        "colab": {
          "base_uri": "https://localhost:8080/",
          "height": 303,
          "referenced_widgets": [
            "c802e873ffc84061a554f21612ffd42b",
            "1893adc626234ccd9343a1b7898bfa65",
            "4c43583a7da14f40a1b062134fbcf374",
            "8e81343ddcf34f87a50a4a628421c78d",
            "5bf89261490a4a57b5380d96164f9a3c",
            "863b5a668dd74dbe940f5683c868d90a",
            "64af6a78654e4f9db726b556df814fb0",
            "b2fe43e13d2a493ea78266c00c4f5d32",
            "97cc2be60c7c4ae48721817445e57b46",
            "da6df148db1943878f4671eba49d5f50",
            "99442ec9c77c411096202e660980076f",
            "6d0f00070e96487aaf849f8d9b6333ba",
            "cf7daf434d7e4d7bb94cbf7af06b036a",
            "ad6bcb51279348d0b4f01c06805f5368",
            "887c262fd9f04f4e96e848ca95f71ca5",
            "4bcab8a525aa4621a145c6f814eaf6f7",
            "daca2828535743a5b5ac44d8ff119546",
            "3503b81f83484ed0a6603e348f3e3410",
            "a7fd28f11cd74723837f659f700b64ff",
            "6e899548fd2041d4837a161c8c056055"
          ]
        },
        "id": "C135qDs4Udqv",
        "outputId": "d653c002-b461-4ed5-c83b-9aa81196bd27"
      },
      "execution_count": null,
      "outputs": [
        {
          "output_type": "stream",
          "name": "stdout",
          "text": [
            "Downloading http://yann.lecun.com/exdb/mnist/train-images-idx3-ubyte.gz\n",
            "Downloading http://yann.lecun.com/exdb/mnist/train-images-idx3-ubyte.gz to ./data/MNIST/raw/train-images-idx3-ubyte.gz\n"
          ]
        },
        {
          "output_type": "display_data",
          "data": {
            "text/plain": [
              "  0%|          | 0/9912422 [00:00<?, ?it/s]"
            ],
            "application/vnd.jupyter.widget-view+json": {
              "version_major": 2,
              "version_minor": 0,
              "model_id": "c802e873ffc84061a554f21612ffd42b"
            }
          },
          "metadata": {}
        },
        {
          "output_type": "stream",
          "name": "stdout",
          "text": [
            "Extracting ./data/MNIST/raw/train-images-idx3-ubyte.gz to ./data/MNIST/raw\n",
            "\n",
            "Downloading http://yann.lecun.com/exdb/mnist/train-labels-idx1-ubyte.gz\n",
            "Downloading http://yann.lecun.com/exdb/mnist/train-labels-idx1-ubyte.gz to ./data/MNIST/raw/train-labels-idx1-ubyte.gz\n"
          ]
        },
        {
          "output_type": "display_data",
          "data": {
            "text/plain": [
              "  0%|          | 0/28881 [00:00<?, ?it/s]"
            ],
            "application/vnd.jupyter.widget-view+json": {
              "version_major": 2,
              "version_minor": 0,
              "model_id": "1893adc626234ccd9343a1b7898bfa65"
            }
          },
          "metadata": {}
        },
        {
          "output_type": "stream",
          "name": "stdout",
          "text": [
            "Extracting ./data/MNIST/raw/train-labels-idx1-ubyte.gz to ./data/MNIST/raw\n",
            "\n",
            "Downloading http://yann.lecun.com/exdb/mnist/t10k-images-idx3-ubyte.gz\n",
            "Downloading http://yann.lecun.com/exdb/mnist/t10k-images-idx3-ubyte.gz to ./data/MNIST/raw/t10k-images-idx3-ubyte.gz\n"
          ]
        },
        {
          "output_type": "display_data",
          "data": {
            "text/plain": [
              "  0%|          | 0/1648877 [00:00<?, ?it/s]"
            ],
            "application/vnd.jupyter.widget-view+json": {
              "version_major": 2,
              "version_minor": 0,
              "model_id": "4c43583a7da14f40a1b062134fbcf374"
            }
          },
          "metadata": {}
        },
        {
          "output_type": "stream",
          "name": "stdout",
          "text": [
            "Extracting ./data/MNIST/raw/t10k-images-idx3-ubyte.gz to ./data/MNIST/raw\n",
            "\n",
            "Downloading http://yann.lecun.com/exdb/mnist/t10k-labels-idx1-ubyte.gz\n",
            "Downloading http://yann.lecun.com/exdb/mnist/t10k-labels-idx1-ubyte.gz to ./data/MNIST/raw/t10k-labels-idx1-ubyte.gz\n"
          ]
        },
        {
          "output_type": "display_data",
          "data": {
            "text/plain": [
              "  0%|          | 0/4542 [00:00<?, ?it/s]"
            ],
            "application/vnd.jupyter.widget-view+json": {
              "version_major": 2,
              "version_minor": 0,
              "model_id": "8e81343ddcf34f87a50a4a628421c78d"
            }
          },
          "metadata": {}
        },
        {
          "output_type": "stream",
          "name": "stdout",
          "text": [
            "Extracting ./data/MNIST/raw/t10k-labels-idx1-ubyte.gz to ./data/MNIST/raw\n",
            "\n"
          ]
        }
      ]
    },
    {
      "cell_type": "code",
      "source": [
        "#Test Data"
      ],
      "metadata": {
        "id": "oP1WU5t0UwVI"
      },
      "execution_count": null,
      "outputs": []
    },
    {
      "cell_type": "code",
      "source": [
        "test_loader = torch.utils.data.DataLoader(\n",
        "    datasets.MNIST('./data', train=False,\n",
        "    transform=transforms.Compose([\n",
        "        transforms.ToTensor()\n",
        "    ])),\n",
        "    batch_size=32, shuffle=False)\n"
      ],
      "metadata": {
        "id": "nf98Dtl5UqFj"
      },
      "execution_count": null,
      "outputs": []
    },
    {
      "cell_type": "code",
      "source": [
        "class BasicNN(nn.Module):\n",
        "    def __init__(self):\n",
        "        super(BasicNN, self).__init__()\n",
        "        self.net = nn.Linear(28 * 28, 10)\n",
        "    def forward(self, x):\n",
        "        batch_size = x.size(0)\n",
        "        x = x.view(batch_size, -1)\n",
        "        output = self.net(x)\n",
        "        return F.softmax(output)"
      ],
      "metadata": {
        "id": "v3YbNhXRUz0q"
      },
      "execution_count": null,
      "outputs": []
    },
    {
      "cell_type": "code",
      "source": [
        "model = BasicNN()\n",
        "optimizer = optim.SGD(model.parameters(), lr=0.001)"
      ],
      "metadata": {
        "id": "SmZORs6yU_Vh"
      },
      "execution_count": null,
      "outputs": []
    },
    {
      "cell_type": "code",
      "source": [
        "def test():\n",
        "    total_loss = 0\n",
        "    correct = 0\n",
        "    for image, label in test_loader:\n",
        "        image, label = Variable(image), Variable(label)\n",
        "        output = model(image)\n",
        "        total_loss += F.cross_entropy(output, label)\n",
        "        correct += (torch.max(output, 1)[1].view(label.size()).data == label.data).sum()\n",
        "    total_loss = total_loss.data / len(test_loader)\n",
        "    accuracy = correct / len(test_loader.dataset)\n",
        "    return total_loss, accuracy"
      ],
      "metadata": {
        "id": "zA55dzOqWdX5"
      },
      "execution_count": null,
      "outputs": []
    },
    {
      "cell_type": "code",
      "source": [
        "def train():\n",
        "    model.train()\n",
        "    for image, label in train_loader:\n",
        "        image, label = Variable(image), Variable(label)\n",
        "        optimizer.zero_grad()\n",
        "        output = model(image)\n",
        "        loss = F.cross_entropy(output, label)\n",
        "        loss.backward() #gradient\n",
        "        optimizer.step()"
      ],
      "metadata": {
        "id": "ITbV78qBYLsJ"
      },
      "execution_count": null,
      "outputs": []
    },
    {
      "cell_type": "code",
      "source": [
        "best_test_loss = None\n",
        "for e in range(1, 200):\n",
        "    train()\n",
        "    test_loss, test_accuracy = test()\n",
        "    print(\"\\n[Epoch: %d] Test Loss:%5.5f Test Accuracy:%5.5f\" % (e, test_loss, test_accuracy))\n",
        "    # Save the model if the test_loss is the lowest\n",
        "    if not best_test_loss or test_loss < best_test_loss:\n",
        "        best_test_loss = test_loss\n",
        "    else:\n",
        "        break\n",
        "print(\"\\nFinal Results\\n-------------\\n\"\"Loss:\", best_test_loss, \"Test Accuracy: \", test_accuracy)"
      ],
      "metadata": {
        "colab": {
          "base_uri": "https://localhost:8080/"
        },
        "id": "Me8bXhObZRdy",
        "outputId": "009a330a-e7ec-4782-a8c6-bee91da699e9"
      },
      "execution_count": null,
      "outputs": [
        {
          "output_type": "stream",
          "name": "stderr",
          "text": [
            "<ipython-input-5-474dfbde7e55>:9: UserWarning: Implicit dimension choice for softmax has been deprecated. Change the call to include dim=X as an argument.\n",
            "  return F.softmax(output)\n"
          ]
        },
        {
          "output_type": "stream",
          "name": "stdout",
          "text": [
            "\n",
            "[Epoch: 1] Test Loss:1.60432 Test Accuracy:0.89810\n",
            "\n",
            "[Epoch: 2] Test Loss:1.60396 Test Accuracy:0.89830\n",
            "\n",
            "[Epoch: 3] Test Loss:1.60361 Test Accuracy:0.89860\n",
            "\n",
            "[Epoch: 4] Test Loss:1.60326 Test Accuracy:0.89880\n",
            "\n",
            "[Epoch: 5] Test Loss:1.60292 Test Accuracy:0.89880\n",
            "\n",
            "[Epoch: 6] Test Loss:1.60258 Test Accuracy:0.89880\n",
            "\n",
            "[Epoch: 7] Test Loss:1.60225 Test Accuracy:0.89880\n",
            "\n",
            "[Epoch: 8] Test Loss:1.60193 Test Accuracy:0.89890\n",
            "\n",
            "[Epoch: 9] Test Loss:1.60161 Test Accuracy:0.89900\n",
            "\n",
            "[Epoch: 10] Test Loss:1.60129 Test Accuracy:0.89900\n",
            "\n",
            "[Epoch: 11] Test Loss:1.60098 Test Accuracy:0.89940\n",
            "\n",
            "[Epoch: 12] Test Loss:1.60068 Test Accuracy:0.89930\n",
            "\n",
            "[Epoch: 13] Test Loss:1.60038 Test Accuracy:0.89940\n",
            "\n",
            "[Epoch: 14] Test Loss:1.60008 Test Accuracy:0.89960\n",
            "\n",
            "[Epoch: 15] Test Loss:1.59979 Test Accuracy:0.89970\n",
            "\n",
            "[Epoch: 16] Test Loss:1.59950 Test Accuracy:0.89970\n",
            "\n",
            "[Epoch: 17] Test Loss:1.59922 Test Accuracy:0.89980\n",
            "\n",
            "[Epoch: 18] Test Loss:1.59894 Test Accuracy:0.89990\n",
            "\n",
            "[Epoch: 19] Test Loss:1.59866 Test Accuracy:0.89990\n",
            "\n",
            "[Epoch: 20] Test Loss:1.59839 Test Accuracy:0.89990\n",
            "\n",
            "[Epoch: 21] Test Loss:1.59812 Test Accuracy:0.90020\n",
            "\n",
            "[Epoch: 22] Test Loss:1.59786 Test Accuracy:0.90040\n",
            "\n",
            "[Epoch: 23] Test Loss:1.59760 Test Accuracy:0.90030\n",
            "\n",
            "[Epoch: 24] Test Loss:1.59734 Test Accuracy:0.90040\n",
            "\n",
            "[Epoch: 25] Test Loss:1.59709 Test Accuracy:0.90050\n",
            "\n",
            "[Epoch: 26] Test Loss:1.59683 Test Accuracy:0.90060\n",
            "\n",
            "[Epoch: 27] Test Loss:1.59659 Test Accuracy:0.90080\n",
            "\n",
            "[Epoch: 28] Test Loss:1.59634 Test Accuracy:0.90100\n",
            "\n",
            "[Epoch: 29] Test Loss:1.59610 Test Accuracy:0.90100\n",
            "\n",
            "[Epoch: 30] Test Loss:1.59586 Test Accuracy:0.90120\n",
            "\n",
            "[Epoch: 31] Test Loss:1.59563 Test Accuracy:0.90120\n",
            "\n",
            "[Epoch: 32] Test Loss:1.59539 Test Accuracy:0.90140\n",
            "\n",
            "[Epoch: 33] Test Loss:1.59516 Test Accuracy:0.90130\n",
            "\n",
            "[Epoch: 34] Test Loss:1.59493 Test Accuracy:0.90130\n",
            "\n",
            "[Epoch: 35] Test Loss:1.59471 Test Accuracy:0.90130\n",
            "\n",
            "[Epoch: 36] Test Loss:1.59449 Test Accuracy:0.90140\n",
            "\n",
            "[Epoch: 37] Test Loss:1.59427 Test Accuracy:0.90150\n",
            "\n",
            "[Epoch: 38] Test Loss:1.59405 Test Accuracy:0.90190\n",
            "\n",
            "[Epoch: 39] Test Loss:1.59384 Test Accuracy:0.90200\n",
            "\n",
            "[Epoch: 40] Test Loss:1.59362 Test Accuracy:0.90200\n",
            "\n",
            "[Epoch: 41] Test Loss:1.59341 Test Accuracy:0.90210\n",
            "\n",
            "[Epoch: 42] Test Loss:1.59320 Test Accuracy:0.90210\n",
            "\n",
            "[Epoch: 43] Test Loss:1.59300 Test Accuracy:0.90240\n",
            "\n",
            "[Epoch: 44] Test Loss:1.59280 Test Accuracy:0.90260\n",
            "\n",
            "[Epoch: 45] Test Loss:1.59259 Test Accuracy:0.90280\n",
            "\n",
            "[Epoch: 46] Test Loss:1.59239 Test Accuracy:0.90270\n",
            "\n",
            "[Epoch: 47] Test Loss:1.59220 Test Accuracy:0.90280\n",
            "\n",
            "[Epoch: 48] Test Loss:1.59200 Test Accuracy:0.90300\n",
            "\n",
            "[Epoch: 49] Test Loss:1.59181 Test Accuracy:0.90310\n",
            "\n",
            "[Epoch: 50] Test Loss:1.59162 Test Accuracy:0.90320\n",
            "\n",
            "[Epoch: 51] Test Loss:1.59143 Test Accuracy:0.90340\n",
            "\n",
            "[Epoch: 52] Test Loss:1.59124 Test Accuracy:0.90350\n",
            "\n",
            "[Epoch: 53] Test Loss:1.59106 Test Accuracy:0.90370\n",
            "\n",
            "[Epoch: 54] Test Loss:1.59087 Test Accuracy:0.90370\n",
            "\n",
            "[Epoch: 55] Test Loss:1.59069 Test Accuracy:0.90370\n",
            "\n",
            "[Epoch: 56] Test Loss:1.59051 Test Accuracy:0.90380\n",
            "\n",
            "[Epoch: 57] Test Loss:1.59033 Test Accuracy:0.90370\n",
            "\n",
            "[Epoch: 58] Test Loss:1.59016 Test Accuracy:0.90390\n",
            "\n",
            "[Epoch: 59] Test Loss:1.58998 Test Accuracy:0.90410\n",
            "\n",
            "[Epoch: 60] Test Loss:1.58981 Test Accuracy:0.90410\n",
            "\n",
            "[Epoch: 61] Test Loss:1.58964 Test Accuracy:0.90420\n",
            "\n",
            "[Epoch: 62] Test Loss:1.58946 Test Accuracy:0.90430\n",
            "\n",
            "[Epoch: 63] Test Loss:1.58930 Test Accuracy:0.90440\n",
            "\n",
            "[Epoch: 64] Test Loss:1.58913 Test Accuracy:0.90440\n",
            "\n",
            "[Epoch: 65] Test Loss:1.58896 Test Accuracy:0.90440\n",
            "\n",
            "[Epoch: 66] Test Loss:1.58880 Test Accuracy:0.90440\n",
            "\n",
            "[Epoch: 67] Test Loss:1.58864 Test Accuracy:0.90450\n",
            "\n",
            "[Epoch: 68] Test Loss:1.58848 Test Accuracy:0.90450\n",
            "\n",
            "[Epoch: 69] Test Loss:1.58832 Test Accuracy:0.90470\n",
            "\n",
            "[Epoch: 70] Test Loss:1.58816 Test Accuracy:0.90480\n",
            "\n",
            "[Epoch: 71] Test Loss:1.58800 Test Accuracy:0.90480\n",
            "\n",
            "[Epoch: 72] Test Loss:1.58784 Test Accuracy:0.90510\n",
            "\n",
            "[Epoch: 73] Test Loss:1.58769 Test Accuracy:0.90510\n",
            "\n",
            "[Epoch: 74] Test Loss:1.58754 Test Accuracy:0.90510\n",
            "\n",
            "[Epoch: 75] Test Loss:1.58738 Test Accuracy:0.90530\n",
            "\n",
            "[Epoch: 76] Test Loss:1.58723 Test Accuracy:0.90530\n",
            "\n",
            "[Epoch: 77] Test Loss:1.58709 Test Accuracy:0.90540\n",
            "\n",
            "[Epoch: 78] Test Loss:1.58694 Test Accuracy:0.90560\n",
            "\n",
            "[Epoch: 79] Test Loss:1.58679 Test Accuracy:0.90580\n",
            "\n",
            "[Epoch: 80] Test Loss:1.58665 Test Accuracy:0.90580\n",
            "\n",
            "[Epoch: 81] Test Loss:1.58650 Test Accuracy:0.90580\n",
            "\n",
            "[Epoch: 82] Test Loss:1.58636 Test Accuracy:0.90580\n",
            "\n",
            "[Epoch: 83] Test Loss:1.58622 Test Accuracy:0.90590\n",
            "\n",
            "[Epoch: 84] Test Loss:1.58607 Test Accuracy:0.90590\n",
            "\n",
            "[Epoch: 85] Test Loss:1.58593 Test Accuracy:0.90600\n",
            "\n",
            "[Epoch: 86] Test Loss:1.58580 Test Accuracy:0.90600\n",
            "\n",
            "[Epoch: 87] Test Loss:1.58566 Test Accuracy:0.90600\n",
            "\n",
            "[Epoch: 88] Test Loss:1.58552 Test Accuracy:0.90600\n",
            "\n",
            "[Epoch: 89] Test Loss:1.58539 Test Accuracy:0.90620\n",
            "\n",
            "[Epoch: 90] Test Loss:1.58525 Test Accuracy:0.90630\n",
            "\n",
            "[Epoch: 91] Test Loss:1.58512 Test Accuracy:0.90640\n",
            "\n",
            "[Epoch: 92] Test Loss:1.58499 Test Accuracy:0.90630\n",
            "\n",
            "[Epoch: 93] Test Loss:1.58485 Test Accuracy:0.90630\n",
            "\n",
            "[Epoch: 94] Test Loss:1.58472 Test Accuracy:0.90630\n",
            "\n",
            "[Epoch: 95] Test Loss:1.58459 Test Accuracy:0.90630\n",
            "\n",
            "[Epoch: 96] Test Loss:1.58447 Test Accuracy:0.90640\n",
            "\n",
            "[Epoch: 97] Test Loss:1.58434 Test Accuracy:0.90650\n",
            "\n",
            "[Epoch: 98] Test Loss:1.58421 Test Accuracy:0.90660\n",
            "\n",
            "[Epoch: 99] Test Loss:1.58409 Test Accuracy:0.90660\n",
            "\n",
            "[Epoch: 100] Test Loss:1.58396 Test Accuracy:0.90660\n",
            "\n",
            "[Epoch: 101] Test Loss:1.58384 Test Accuracy:0.90650\n",
            "\n",
            "[Epoch: 102] Test Loss:1.58371 Test Accuracy:0.90640\n",
            "\n",
            "[Epoch: 103] Test Loss:1.58359 Test Accuracy:0.90640\n",
            "\n",
            "[Epoch: 104] Test Loss:1.58347 Test Accuracy:0.90630\n",
            "\n",
            "[Epoch: 105] Test Loss:1.58335 Test Accuracy:0.90630\n",
            "\n",
            "[Epoch: 106] Test Loss:1.58323 Test Accuracy:0.90650\n",
            "\n",
            "[Epoch: 107] Test Loss:1.58311 Test Accuracy:0.90650\n",
            "\n",
            "[Epoch: 108] Test Loss:1.58299 Test Accuracy:0.90660\n",
            "\n",
            "[Epoch: 109] Test Loss:1.58288 Test Accuracy:0.90680\n",
            "\n",
            "[Epoch: 110] Test Loss:1.58276 Test Accuracy:0.90680\n",
            "\n",
            "[Epoch: 111] Test Loss:1.58264 Test Accuracy:0.90690\n",
            "\n",
            "[Epoch: 112] Test Loss:1.58253 Test Accuracy:0.90690\n",
            "\n",
            "[Epoch: 113] Test Loss:1.58241 Test Accuracy:0.90680\n",
            "\n",
            "[Epoch: 114] Test Loss:1.58230 Test Accuracy:0.90690\n",
            "\n",
            "[Epoch: 115] Test Loss:1.58219 Test Accuracy:0.90690\n",
            "\n",
            "[Epoch: 116] Test Loss:1.58208 Test Accuracy:0.90700\n",
            "\n",
            "[Epoch: 117] Test Loss:1.58197 Test Accuracy:0.90700\n",
            "\n",
            "[Epoch: 118] Test Loss:1.58186 Test Accuracy:0.90700\n",
            "\n",
            "[Epoch: 119] Test Loss:1.58175 Test Accuracy:0.90700\n",
            "\n",
            "[Epoch: 120] Test Loss:1.58164 Test Accuracy:0.90710\n",
            "\n",
            "[Epoch: 121] Test Loss:1.58153 Test Accuracy:0.90720\n",
            "\n",
            "[Epoch: 122] Test Loss:1.58142 Test Accuracy:0.90720\n",
            "\n",
            "[Epoch: 123] Test Loss:1.58132 Test Accuracy:0.90730\n",
            "\n",
            "[Epoch: 124] Test Loss:1.58121 Test Accuracy:0.90750\n",
            "\n",
            "[Epoch: 125] Test Loss:1.58111 Test Accuracy:0.90750\n",
            "\n",
            "[Epoch: 126] Test Loss:1.58100 Test Accuracy:0.90760\n",
            "\n",
            "[Epoch: 127] Test Loss:1.58090 Test Accuracy:0.90770\n",
            "\n",
            "[Epoch: 128] Test Loss:1.58079 Test Accuracy:0.90770\n",
            "\n",
            "[Epoch: 129] Test Loss:1.58069 Test Accuracy:0.90770\n",
            "\n",
            "[Epoch: 130] Test Loss:1.58059 Test Accuracy:0.90780\n",
            "\n",
            "[Epoch: 131] Test Loss:1.58049 Test Accuracy:0.90770\n",
            "\n",
            "[Epoch: 132] Test Loss:1.58039 Test Accuracy:0.90770\n",
            "\n",
            "[Epoch: 133] Test Loss:1.58028 Test Accuracy:0.90770\n",
            "\n",
            "[Epoch: 134] Test Loss:1.58019 Test Accuracy:0.90770\n",
            "\n",
            "[Epoch: 135] Test Loss:1.58009 Test Accuracy:0.90770\n",
            "\n",
            "[Epoch: 136] Test Loss:1.57999 Test Accuracy:0.90780\n",
            "\n",
            "[Epoch: 137] Test Loss:1.57989 Test Accuracy:0.90790\n",
            "\n",
            "[Epoch: 138] Test Loss:1.57979 Test Accuracy:0.90800\n",
            "\n",
            "[Epoch: 139] Test Loss:1.57970 Test Accuracy:0.90810\n",
            "\n",
            "[Epoch: 140] Test Loss:1.57960 Test Accuracy:0.90820\n",
            "\n",
            "[Epoch: 141] Test Loss:1.57951 Test Accuracy:0.90810\n",
            "\n",
            "[Epoch: 142] Test Loss:1.57941 Test Accuracy:0.90810\n",
            "\n",
            "[Epoch: 143] Test Loss:1.57932 Test Accuracy:0.90810\n",
            "\n",
            "[Epoch: 144] Test Loss:1.57922 Test Accuracy:0.90820\n",
            "\n",
            "[Epoch: 145] Test Loss:1.57913 Test Accuracy:0.90840\n",
            "\n",
            "[Epoch: 146] Test Loss:1.57904 Test Accuracy:0.90840\n",
            "\n",
            "[Epoch: 147] Test Loss:1.57894 Test Accuracy:0.90840\n",
            "\n",
            "[Epoch: 148] Test Loss:1.57885 Test Accuracy:0.90830\n",
            "\n",
            "[Epoch: 149] Test Loss:1.57876 Test Accuracy:0.90830\n",
            "\n",
            "[Epoch: 150] Test Loss:1.57867 Test Accuracy:0.90830\n",
            "\n",
            "[Epoch: 151] Test Loss:1.57858 Test Accuracy:0.90840\n",
            "\n",
            "[Epoch: 152] Test Loss:1.57849 Test Accuracy:0.90830\n",
            "\n",
            "[Epoch: 153] Test Loss:1.57840 Test Accuracy:0.90860\n",
            "\n",
            "[Epoch: 154] Test Loss:1.57831 Test Accuracy:0.90860\n",
            "\n",
            "[Epoch: 155] Test Loss:1.57822 Test Accuracy:0.90860\n",
            "\n",
            "[Epoch: 156] Test Loss:1.57814 Test Accuracy:0.90860\n",
            "\n",
            "[Epoch: 157] Test Loss:1.57805 Test Accuracy:0.90880\n",
            "\n",
            "[Epoch: 158] Test Loss:1.57796 Test Accuracy:0.90900\n",
            "\n",
            "[Epoch: 159] Test Loss:1.57788 Test Accuracy:0.90900\n",
            "\n",
            "[Epoch: 160] Test Loss:1.57779 Test Accuracy:0.90910\n",
            "\n",
            "[Epoch: 161] Test Loss:1.57771 Test Accuracy:0.90920\n",
            "\n",
            "[Epoch: 162] Test Loss:1.57762 Test Accuracy:0.90910\n",
            "\n",
            "[Epoch: 163] Test Loss:1.57754 Test Accuracy:0.90910\n",
            "\n",
            "[Epoch: 164] Test Loss:1.57745 Test Accuracy:0.90920\n",
            "\n",
            "[Epoch: 165] Test Loss:1.57737 Test Accuracy:0.90920\n",
            "\n",
            "[Epoch: 166] Test Loss:1.57729 Test Accuracy:0.90930\n",
            "\n",
            "[Epoch: 167] Test Loss:1.57720 Test Accuracy:0.90920\n",
            "\n",
            "[Epoch: 168] Test Loss:1.57712 Test Accuracy:0.90930\n",
            "\n",
            "[Epoch: 169] Test Loss:1.57704 Test Accuracy:0.90940\n",
            "\n",
            "[Epoch: 170] Test Loss:1.57696 Test Accuracy:0.90940\n",
            "\n",
            "[Epoch: 171] Test Loss:1.57688 Test Accuracy:0.90940\n",
            "\n",
            "[Epoch: 172] Test Loss:1.57680 Test Accuracy:0.90960\n",
            "\n",
            "[Epoch: 173] Test Loss:1.57672 Test Accuracy:0.90960\n",
            "\n",
            "[Epoch: 174] Test Loss:1.57664 Test Accuracy:0.90960\n",
            "\n",
            "[Epoch: 175] Test Loss:1.57656 Test Accuracy:0.90970\n",
            "\n",
            "[Epoch: 176] Test Loss:1.57648 Test Accuracy:0.90960\n",
            "\n",
            "[Epoch: 177] Test Loss:1.57640 Test Accuracy:0.90960\n",
            "\n",
            "[Epoch: 178] Test Loss:1.57632 Test Accuracy:0.90960\n",
            "\n",
            "[Epoch: 179] Test Loss:1.57625 Test Accuracy:0.90960\n",
            "\n",
            "[Epoch: 180] Test Loss:1.57617 Test Accuracy:0.90960\n",
            "\n",
            "[Epoch: 181] Test Loss:1.57609 Test Accuracy:0.90960\n",
            "\n",
            "[Epoch: 182] Test Loss:1.57602 Test Accuracy:0.90970\n",
            "\n",
            "[Epoch: 183] Test Loss:1.57594 Test Accuracy:0.90970\n",
            "\n",
            "[Epoch: 184] Test Loss:1.57586 Test Accuracy:0.90970\n",
            "\n",
            "[Epoch: 185] Test Loss:1.57579 Test Accuracy:0.90970\n",
            "\n",
            "[Epoch: 186] Test Loss:1.57571 Test Accuracy:0.90970\n",
            "\n",
            "[Epoch: 187] Test Loss:1.57564 Test Accuracy:0.90970\n",
            "\n",
            "[Epoch: 188] Test Loss:1.57557 Test Accuracy:0.90980\n",
            "\n",
            "[Epoch: 189] Test Loss:1.57549 Test Accuracy:0.90980\n",
            "\n",
            "[Epoch: 190] Test Loss:1.57542 Test Accuracy:0.90980\n",
            "\n",
            "[Epoch: 191] Test Loss:1.57535 Test Accuracy:0.90980\n",
            "\n",
            "[Epoch: 192] Test Loss:1.57527 Test Accuracy:0.90990\n",
            "\n",
            "[Epoch: 193] Test Loss:1.57520 Test Accuracy:0.91000\n",
            "\n",
            "[Epoch: 194] Test Loss:1.57513 Test Accuracy:0.91000\n",
            "\n",
            "[Epoch: 195] Test Loss:1.57506 Test Accuracy:0.91000\n",
            "\n",
            "[Epoch: 196] Test Loss:1.57499 Test Accuracy:0.91010\n",
            "\n",
            "[Epoch: 197] Test Loss:1.57491 Test Accuracy:0.91000\n",
            "\n",
            "[Epoch: 198] Test Loss:1.57484 Test Accuracy:0.91000\n",
            "\n",
            "[Epoch: 199] Test Loss:1.57477 Test Accuracy:0.91000\n",
            "\n",
            "Final Results\n",
            "-------------\n",
            "Loss: tensor(1.5748) Test Accuracy:  tensor(0.9100)\n"
          ]
        }
      ]
    },
    {
      "cell_type": "markdown",
      "source": [
        "#individual images"
      ],
      "metadata": {
        "id": "jNgcM5UbeD_u"
      }
    },
    {
      "cell_type": "code",
      "source": [
        "test_dataset = datasets.MNIST(root='data/', \n",
        "                     train=False,\n",
        "                     transform=transforms.ToTensor())"
      ],
      "metadata": {
        "id": "X7TrwU9jeKUf"
      },
      "execution_count": null,
      "outputs": []
    },
    {
      "cell_type": "code",
      "source": [
        "if torch.cuda.is_available():\n",
        "  device = torch.device('cuda')\n",
        "else:\n",
        "  device = torch.device('cpu')\n",
        "print(device)"
      ],
      "metadata": {
        "colab": {
          "base_uri": "https://localhost:8080/"
        },
        "id": "5fPhpJHgfbBl",
        "outputId": "14e49d48-f654-42cc-a161-72ac97462acd"
      },
      "execution_count": null,
      "outputs": [
        {
          "output_type": "stream",
          "name": "stdout",
          "text": [
            "cpu\n"
          ]
        }
      ]
    },
    {
      "cell_type": "code",
      "source": [
        "def to_device(data, device):\n",
        "    \"\"\"Move tensor(s) to chosen device\"\"\"\n",
        "    if isinstance(data, (list,tuple)):\n",
        "        return [to_device(x, device) for x in data]\n",
        "    return data.to(device, non_blocking=True)"
      ],
      "metadata": {
        "id": "HXYAF2JQfkLK"
      },
      "execution_count": null,
      "outputs": []
    },
    {
      "cell_type": "code",
      "source": [
        "def predict_image(img, model):\n",
        "    xb = to_device(img.unsqueeze(0), device)\n",
        "    yb = model(xb)\n",
        "    _, preds  = torch.max(yb, dim=1)\n",
        "    return preds[0].item()"
      ],
      "metadata": {
        "id": "AY9bd0hfexgx"
      },
      "execution_count": null,
      "outputs": []
    },
    {
      "cell_type": "code",
      "source": [
        "img, label = test_dataset[0]\n",
        "plt.imshow(img[0], cmap='gray')\n",
        "print('Label:', label, ', Predicted:', predict_image(img, model))"
      ],
      "metadata": {
        "colab": {
          "base_uri": "https://localhost:8080/",
          "height": 339
        },
        "id": "6u1hxJULfpHX",
        "outputId": "48ffc631-29a7-4333-8278-bdb6ff113cfc"
      },
      "execution_count": null,
      "outputs": [
        {
          "output_type": "stream",
          "name": "stdout",
          "text": [
            "Label: 7 , Predicted: 7\n"
          ]
        },
        {
          "output_type": "stream",
          "name": "stderr",
          "text": [
            "<ipython-input-5-474dfbde7e55>:9: UserWarning: Implicit dimension choice for softmax has been deprecated. Change the call to include dim=X as an argument.\n",
            "  return F.softmax(output)\n"
          ]
        },
        {
          "output_type": "display_data",
          "data": {
            "text/plain": [
              "<Figure size 432x288 with 1 Axes>"
            ],
            "image/png": "[encoded data removed]"
          },
          "metadata": {
            "needs_background": "light"
          }
        }
      ]
    },
    {
      "cell_type": "code",
      "source": [
        "img, label = test_dataset[1839]\n",
        "plt.imshow(img[0], cmap='gray')\n",
        "print('Label:', label, ', Predicted:', predict_image(img, model))"
      ],
      "metadata": {
        "colab": {
          "base_uri": "https://localhost:8080/",
          "height": 339
        },
        "id": "fOB1i1SLfsmI",
        "outputId": "88e1491b-fb03-4a57-f7cc-bf443785b9b2"
      },
      "execution_count": null,
      "outputs": [
        {
          "output_type": "stream",
          "name": "stdout",
          "text": [
            "Label: 2 , Predicted: 8\n"
          ]
        },
        {
          "output_type": "stream",
          "name": "stderr",
          "text": [
            "<ipython-input-5-474dfbde7e55>:9: UserWarning: Implicit dimension choice for softmax has been deprecated. Change the call to include dim=X as an argument.\n",
            "  return F.softmax(output)\n"
          ]
        },
        {
          "output_type": "display_data",
          "data": {
            "text/plain": [
              "<Figure size 432x288 with 1 Axes>"
            ],
            "image/png": "[encoded data removed]"
          },
          "metadata": {
            "needs_background": "light"
          }
        }
      ]
    },
    {
      "cell_type": "code",
      "source": [
        "img, label = test_dataset[1854]\n",
        "plt.imshow(img[0], cmap='gray')\n",
        "print('Label:', label, ', Predicted:', predict_image(img, model))"
      ],
      "metadata": {
        "colab": {
          "base_uri": "https://localhost:8080/",
          "height": 339
        },
        "id": "Eo1jp1H4k6SJ",
        "outputId": "610f8529-cec7-4e2a-bf27-aa0a36068bf8"
      },
      "execution_count": null,
      "outputs": [
        {
          "output_type": "stream",
          "name": "stdout",
          "text": [
            "Label: 6 , Predicted: 6\n"
          ]
        },
        {
          "output_type": "stream",
          "name": "stderr",
          "text": [
            "<ipython-input-5-474dfbde7e55>:9: UserWarning: Implicit dimension choice for softmax has been deprecated. Change the call to include dim=X as an argument.\n",
            "  return F.softmax(output)\n"
          ]
        },
        {
          "output_type": "display_data",
          "data": {
            "text/plain": [
              "<Figure size 432x288 with 1 Axes>"
            ],
            "image/png": "[encoded data removed]"
          },
          "metadata": {
            "needs_background": "light"
          }
        }
      ]
    },
    {
      "cell_type": "code",
      "source": [
        "img, label = test_dataset[2345]\n",
        "plt.imshow(img[0], cmap='gray')\n",
        "print('Label:', label, ', Predicted:', predict_image(img, model))"
      ],
      "metadata": {
        "colab": {
          "base_uri": "https://localhost:8080/",
          "height": 339
        },
        "id": "O05B79eolC0j",
        "outputId": "85a02435-3dcf-4032-bb1d-71b67e4ac010"
      },
      "execution_count": null,
      "outputs": [
        {
          "output_type": "stream",
          "name": "stdout",
          "text": [
            "Label: 9 , Predicted: 9\n"
          ]
        },
        {
          "output_type": "stream",
          "name": "stderr",
          "text": [
            "<ipython-input-5-474dfbde7e55>:9: UserWarning: Implicit dimension choice for softmax has been deprecated. Change the call to include dim=X as an argument.\n",
            "  return F.softmax(output)\n"
          ]
        },
        {
          "output_type": "display_data",
          "data": {
            "text/plain": [
              "<Figure size 432x288 with 1 Axes>"
            ],
            "image/png": "[encoded data removed]"
          },
          "metadata": {
            "needs_background": "light"
          }
        }
      ]
    }
  ]
}